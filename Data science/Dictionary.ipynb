{
 "cells": [
  {
   "cell_type": "code",
   "execution_count": null,
   "id": "d51a7aaf",
   "metadata": {},
   "outputs": [],
   "source": [
    "# name = {key:value,key:value}\n",
    "\n",
    "data={\"name\":\"rupesh\",\"age\":21,\"height\":5.1}\n",
    "print(data)"
   ]
  },
  {
   "cell_type": "code",
   "execution_count": null,
   "id": "c2f67573",
   "metadata": {},
   "outputs": [],
   "source": [
    "# access single value\n",
    "print(data[\"name\"])"
   ]
  },
  {
   "cell_type": "code",
   "execution_count": null,
   "id": "635ae10f",
   "metadata": {},
   "outputs": [],
   "source": [
    "# update data\n",
    "data[\"age\"]=25\n",
    "print(data)"
   ]
  },
  {
   "cell_type": "code",
   "execution_count": null,
   "id": "c0dbc8e0",
   "metadata": {},
   "outputs": [],
   "source": [
    "# delete\n",
    "data.pop(\"age\")\n",
    "print(data)"
   ]
  },
  {
   "cell_type": "code",
   "execution_count": null,
   "id": "bd164062",
   "metadata": {},
   "outputs": [],
   "source": [
    "# add new item to disc\n",
    "data[\"city\"]=\"mumbai\"\n",
    "print(data)"
   ]
  },
  {
   "cell_type": "code",
   "execution_count": null,
   "id": "4f8f56b5",
   "metadata": {},
   "outputs": [],
   "source": [
    "# keys: Returns a list of all keys in the dictionary.\n",
    "print(data.keys())\n",
    "# values: Returns a list of all values in the dictionary.\n",
    "print(data.values())\n",
    "# items: Returns a list of all key-values as tuples.\n",
    "print(data.items())\n",
    "# get(key:default): Returns the value for a key if it exists, else returns a default value\n",
    "print(data.get(\"name\")) \n",
    "# pop:(key:default): Removes and returns the value associated with the key.\n",
    "print(data.pop(\"height\"))"
   ]
  },
  {
   "cell_type": "code",
   "execution_count": null,
   "id": "e3c5cee9",
   "metadata": {},
   "outputs": [],
   "source": [
    "# print using loop \n",
    "\n",
    "for i in data:\n",
    "    print(i,\" = \",data[i])"
   ]
  },
  {
   "cell_type": "code",
   "execution_count": null,
   "id": "7a99568d",
   "metadata": {},
   "outputs": [
    {
     "name": "stdout",
     "output_type": "stream",
     "text": [
      "\n",
      "========= Loan EMI Calculation =========\n",
      "Loan Amount: ₹ 100000\n",
      "Tenure: 15 years (180 months)\n",
      "Annual Interest Rate: 5.5%\n",
      "----------------------------------------\n",
      "Monthly EMI: ₹817.0834546211335\n",
      "Total Payment (Principal + Interest): ₹147075.021831804\n",
      "Principal Amount: ₹100000\n",
      "Total Interest Payable: ₹47075.02183180401\n",
      "========================================\n"
     ]
    }
   ],
   "source": [
    "loan_amt = int(input(\"Enter Loan Amount\"))\n",
    "tenure_years = int(input(\"Enter Tenure(years)\"))\n",
    "annual_interest = float(input(\"Enter Interest Rate(%)\"))\n",
    "\n",
    "tenure_monthly = tenure_years * 12\n",
    "monthly_interest = annual_interest / (12*100)\n",
    "\n",
    "emi = (loan_amt * monthly_interest * (1 + monthly_interest) ** tenure_monthly) / ((1 + monthly_interest) ** tenure_monthly - 1)\n",
    "\n",
    "total_payment = emi * tenure_monthly\n",
    "total_interest = total_payment - loan_amt\n",
    "\n",
    "\n",
    "print(\"\\n========= Loan EMI Calculation =========\")\n",
    "print(\"Loan Amount: ₹ \" + str(loan_amt))\n",
    "print(\"Tenure: \" + str(tenure_years) + \" years (\" + str(tenure_monthly) + \" months)\")\n",
    "print(\"Annual Interest Rate: \" + str(annual_interest) + \"%\")\n",
    "print(\"----------------------------------------\")\n",
    "print(\"Monthly EMI: ₹\" + str(emi))\n",
    "print(\"Total Payment (Principal + Interest): ₹\" + str(total_payment))\n",
    "print(\"Principal Amount: ₹\" + str(loan_amt))\n",
    "print(\"Total Interest Payable: ₹\" + str(total_interest))\n",
    "print(\"========================================\")\n",
    "\n"
   ]
  }
 ],
 "metadata": {
  "kernelspec": {
   "display_name": "Python 3",
   "language": "python",
   "name": "python3"
  },
  "language_info": {
   "codemirror_mode": {
    "name": "ipython",
    "version": 3
   },
   "file_extension": ".py",
   "mimetype": "text/x-python",
   "name": "python",
   "nbconvert_exporter": "python",
   "pygments_lexer": "ipython3",
   "version": "3.12.4"
  }
 },
 "nbformat": 4,
 "nbformat_minor": 5
}
