{
 "cells": [
  {
   "cell_type": "code",
   "execution_count": 1,
   "id": "0f85b38f",
   "metadata": {},
   "outputs": [
    {
     "name": "stdout",
     "output_type": "stream",
     "text": [
      "[21 22 23 24]\n",
      "(4,)\n",
      "4\n",
      "1\n",
      "23\n"
     ]
    }
   ],
   "source": [
    "import numpy as np\n",
    "data = np.array([21,22,23,24])\n",
    "print(data)\n",
    "print(data.shape)\n",
    "print(data.size)\n",
    "print(data.ndim)\n",
    "print(data[2])"
   ]
  },
  {
   "cell_type": "code",
   "execution_count": 10,
   "id": "0d2da136",
   "metadata": {},
   "outputs": [
    {
     "name": "stdout",
     "output_type": "stream",
     "text": [
      "[[21 22 23]\n",
      " [24 25 26]\n",
      " [27 28 29]]\n",
      "(3, 3)\n",
      "9\n",
      "2\n",
      "29\n"
     ]
    }
   ],
   "source": [
    "import numpy as np\n",
    "data = np.array([[21,22,23],[24,25,26],[27,28,29]])\n",
    "print(data)\n",
    "print(data.shape)\n",
    "print(data.size)\n",
    "print(data.ndim)\n",
    "print(data[2,2])"
   ]
  },
  {
   "cell_type": "code",
   "execution_count": 12,
   "id": "02838d07",
   "metadata": {},
   "outputs": [
    {
     "name": "stdout",
     "output_type": "stream",
     "text": [
      "[[21 22 23]\n",
      " [24 25 26]\n",
      " [27 28 29]\n",
      " [30 31 32]]\n",
      "(4, 3)\n",
      "12\n",
      "2\n",
      "28\n"
     ]
    }
   ],
   "source": [
    "import numpy as np\n",
    "data = np.array([[21,22,23],[24,25,26],[27,28,29],[30,31,32]])\n",
    "print(data)\n",
    "print(data.shape)\n",
    "print(data.size)\n",
    "print(data.ndim)\n",
    "print(data[2,1])"
   ]
  }
 ],
 "metadata": {
  "kernelspec": {
   "display_name": "Python 3",
   "language": "python",
   "name": "python3"
  },
  "language_info": {
   "codemirror_mode": {
    "name": "ipython",
    "version": 3
   },
   "file_extension": ".py",
   "mimetype": "text/x-python",
   "name": "python",
   "nbconvert_exporter": "python",
   "pygments_lexer": "ipython3",
   "version": "3.12.4"
  }
 },
 "nbformat": 4,
 "nbformat_minor": 5
}
