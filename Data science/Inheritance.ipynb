{
 "cells": [
  {
   "cell_type": "code",
   "execution_count": null,
   "id": "57efbc6a",
   "metadata": {},
   "outputs": [],
   "source": [
    "# step 1 define the parent class\n",
    "class Animal:\n",
    "    def __init__(self,name,species):\n",
    "        self.name = name\n",
    "        self.species = species\n",
    "    def make_sound(self):\n",
    "        print('Some generic animal sound...')"
   ]
  },
  {
   "cell_type": "code",
   "execution_count": null,
   "id": "15ae71f2",
   "metadata": {},
   "outputs": [],
   "source": [
    "# step 2 Define the child class\n",
    "class Dog(Animal):\n",
    "    def __init__(self, name, breed):\n",
    "        super().__init__(name, species=\"Dog\")\n",
    "        self.breed = breed\n",
    "\n",
    "    def make_sound(self):\n",
    "        print(f'{self.name} is barking : woof!...')\n",
    "    def fetch(self):\n",
    "        print(f'{self.name} is fetching the ball')\n",
    "        "
   ]
  },
  {
   "cell_type": "code",
   "execution_count": null,
   "id": "dbb7ca72",
   "metadata": {},
   "outputs": [],
   "source": [
    "# animal object\n",
    "generic_animal = Animal(\"leo\",\"Lion\")\n",
    "generic_animal.make_sound()\n",
    "\n",
    "# dog object\n",
    "my_dog = Dog(\"Buddy\",\"Hussky\")\n",
    "my_dog.make_sound()\n",
    "my_dog.fetch()\n",
    "\n",
    "print(f'Name: {my_dog.name} species: {my_dog.species} breed: {my_dog.breed}')"
   ]
  },
  {
   "cell_type": "code",
   "execution_count": 2,
   "id": "09b0989c",
   "metadata": {},
   "outputs": [],
   "source": [
    "class Animal:\n",
    "    def __init__(self,name,species):\n",
    "        self.name = name\n",
    "        self.species = species\n",
    "    def make_sound(self):\n",
    "        print('Some generic animal sound...')\n",
    "\n",
    "class Dog(Animal):\n",
    "    def __init__(self, name, breed):\n",
    "        super().__init__(name, species=\"Dog\")\n",
    "        self.breed = breed\n",
    "    def make_sound(self):\n",
    "        print(f'{self.name} is barking : woof!...')\n",
    "    def fetch(self):\n",
    "        print(f'{self.name} is fetching the ball')\n",
    "        \n",
    "\n",
    "class Cat(Animal):\n",
    "    def __init__(self,name,color):\n",
    "        super().__init__(name,species=\"Cat\")\n",
    "        self.color = color\n",
    "    def make_sound(self):\n",
    "        print(f'{self.name} will meows : Meow!...')\n",
    "    def Scratch(self):\n",
    "        print(f'{self.name} is Scratching Furniture')"
   ]
  },
  {
   "cell_type": "code",
   "execution_count": 3,
   "id": "af9db6b3",
   "metadata": {},
   "outputs": [
    {
     "name": "stdout",
     "output_type": "stream",
     "text": [
      "Some generic animal sound...\n",
      "Buddy is barking : woof!...\n",
      "Buddy is fetching the ball\n",
      "Name: Buddy species: Dog breed: Hussky\n",
      "Cloudy will meows : Meow!...\n",
      "Cloudy is Scratching Furniture\n",
      "Name: Cloudy species: Cat Color: White\n"
     ]
    }
   ],
   "source": [
    "# animal object\n",
    "generic_animal = Animal(\"leo\",\"Lion\")\n",
    "generic_animal.make_sound()\n",
    "\n",
    "# dog object\n",
    "my_dog = Dog(\"Buddy\",\"Hussky\")\n",
    "my_dog.make_sound()\n",
    "my_dog.fetch()\n",
    "\n",
    "print(f'Name: {my_dog.name} species: {my_dog.species} breed: {my_dog.breed}')\n",
    "\n",
    "# cat object\n",
    "my_cat = Cat(\"Cloudy\",\"White\")\n",
    "my_cat.make_sound()\n",
    "my_cat.Scratch()\n",
    "\n",
    "print(f'Name: {my_cat.name} species: {my_cat.species} Color: {my_cat.color}')"
   ]
  },
  {
   "cell_type": "code",
   "execution_count": 13,
   "id": "00e979a9",
   "metadata": {},
   "outputs": [],
   "source": [
    "class Vehicle:\n",
    "    def __init__(self,name,model):\n",
    "        self.name = name\n",
    "        self.model = model\n",
    "    def make_sound(self):\n",
    "        print(\"Some other Vehicle\")\n",
    "\n",
    "class Car(Vehicle):\n",
    "    def __init__(self, name, Color):\n",
    "        super().__init__(name, model=\"M5\")\n",
    "        self.color = Color\n",
    "    def make_sound(self):\n",
    "        print(f'{self.name} is Wrohhhhing')\n",
    "    def speed(self):\n",
    "        print(f'{self.name} is Speeding')\n",
    "\n",
    "class Bike(Vehicle):\n",
    "    def __init__(self, name, design):\n",
    "        super().__init__(name, model=\"V4\")\n",
    "        self.design = design\n",
    "    def make_sound(self):\n",
    "        print(f'{self.name} is brummhhhhing')\n",
    "    def des(self):\n",
    "        print(f'{self.name} is Stylish')"
   ]
  },
  {
   "cell_type": "code",
   "execution_count": 14,
   "id": "84e59c79",
   "metadata": {},
   "outputs": [
    {
     "name": "stdout",
     "output_type": "stream",
     "text": [
      "Some other Vehicle\n",
      "BMW is Wrohhhhing\n",
      "BMW is Speeding\n",
      "Name:BMW  Color:Black  Model:M5\n",
      "R15 is brummhhhhing\n",
      "R15 is Stylish\n",
      "Name:R15  Design:Normal  Model:V4\n"
     ]
    }
   ],
   "source": [
    "other_vehicle = Vehicle(\"Bus\",\"Tarveler\")\n",
    "other_vehicle.make_sound()\n",
    "\n",
    "car = Car(\"BMW\",\"Black\")\n",
    "car.make_sound()\n",
    "car.speed()\n",
    "\n",
    "print(f'Name:{car.name}  Color:{car.color}  Model:{car.model}')\n",
    "\n",
    "bike = Bike(\"R15\",\"Normal\")\n",
    "bike.make_sound()\n",
    "bike.des()\n",
    "\n",
    "print(f'Name:{bike.name}  Design:{bike.design}  Model:{bike.model}')"
   ]
  }
 ],
 "metadata": {
  "kernelspec": {
   "display_name": "Python 3",
   "language": "python",
   "name": "python3"
  },
  "language_info": {
   "codemirror_mode": {
    "name": "ipython",
    "version": 3
   },
   "file_extension": ".py",
   "mimetype": "text/x-python",
   "name": "python",
   "nbconvert_exporter": "python",
   "pygments_lexer": "ipython3",
   "version": "3.12.4"
  }
 },
 "nbformat": 4,
 "nbformat_minor": 5
}
