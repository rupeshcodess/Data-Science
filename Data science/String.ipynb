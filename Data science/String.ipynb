{
 "cells": [
  {
   "cell_type": "code",
   "execution_count": null,
   "id": "04b26ce6",
   "metadata": {},
   "outputs": [],
   "source": [
    "data=\"codes with pankaj\"\n",
    "print(data)"
   ]
  },
  {
   "cell_type": "code",
   "execution_count": 17,
   "id": "2cecc7fd",
   "metadata": {},
   "outputs": [
    {
     "name": "stdout",
     "output_type": "stream",
     "text": [
      "h\n",
      "on is \n",
      "n is the best programming language\n",
      "python is \n",
      "python is the best programming language\n",
      "pytho\n"
     ]
    }
   ],
   "source": [
    "print(data[11])\n",
    "print(data[4:10])\n",
    "print(data[5:])\n",
    "print(data[:10])\n",
    "print(data[:])\n",
    "print(data[0:5])"
   ]
  },
  {
   "cell_type": "code",
   "execution_count": 2,
   "id": "350e6fa5",
   "metadata": {},
   "outputs": [
    {
     "name": "stdout",
     "output_type": "stream",
     "text": [
      "my name is shri and my age is 24\n",
      "my name is shri and my age is 24\n",
      "my name is shri and age is 24\n"
     ]
    }
   ],
   "source": [
    "# format\n",
    "\n",
    "name=\"shri\"\n",
    "age=24\n",
    "\n",
    "print(\"my name is\",name, \"and my age is\",age)\n",
    "print(\"my name is {0} and my age is {1}\".format(name,age))\n",
    "print(f\"my name is {name} and age is {age}\")"
   ]
  },
  {
   "cell_type": "code",
   "execution_count": 16,
   "id": "cbef1bd7",
   "metadata": {},
   "outputs": [
    {
     "name": "stdout",
     "output_type": "stream",
     "text": [
      "CODE WITH PANKAJ\n",
      "code with pankaj\n",
      "('Code With Pa', 'n', 'kaj')\n",
      "Code With Python\n",
      "8\n",
      "python programming\n",
      "['python', 'is', 'the', 'best', 'programming', 'language']\n",
      "True\n",
      "True\n",
      "31\n"
     ]
    }
   ],
   "source": [
    "data=\"Code With Pankaj\"\n",
    "# 1. upper() converts the string to uppercase\n",
    "print(data.upper())\n",
    "#2. lower() converts the string to lowercase\n",
    "print(data.lower())\n",
    "#3. partition() returns a tuple\n",
    "print(data.partition(\"n\"))\n",
    "#4. replace() replaces substring inside\n",
    "print(data.replace(\"Pankaj\",\"Python\"))\n",
    "#5. find() returns the index of first occurrence of substring\n",
    "print(data.find(\"h\"))\n",
    "#6. rstrip() removes trailing characters\n",
    "data=\"python     \"\n",
    "print(data.rstrip(),\"programming\")\n",
    "#7. split() splits string from left\n",
    "data=\"python is the best programming language\"\n",
    "print(data.split())\n",
    "#8. startswith() checks if string starts with the specified string\n",
    "print(data.startswith(\"python\"))\n",
    "#9. isnumeric() checks numeric characters\n",
    "data=\"638762\"\n",
    "print(data.isnumeric())\n",
    "#10. index() returns index of substring\n",
    "data=\"python is the best programming language\"\n",
    "print(data.index(\"l\"))"
   ]
  }
 ],
 "metadata": {
  "kernelspec": {
   "display_name": "Python 3",
   "language": "python",
   "name": "python3"
  },
  "language_info": {
   "codemirror_mode": {
    "name": "ipython",
    "version": 3
   },
   "file_extension": ".py",
   "mimetype": "text/x-python",
   "name": "python",
   "nbconvert_exporter": "python",
   "pygments_lexer": "ipython3",
   "version": "3.12.4"
  }
 },
 "nbformat": 4,
 "nbformat_minor": 5
}
