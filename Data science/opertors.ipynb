{
 "cells": [
  {
   "cell_type": "code",
   "execution_count": 1,
   "id": "da4dc64d",
   "metadata": {},
   "outputs": [
    {
     "name": "stdout",
     "output_type": "stream",
     "text": [
      "hello\n"
     ]
    }
   ],
   "source": [
    "print(\"hello\")\n",
    "\n"
   ]
  },
  {
   "cell_type": "code",
   "execution_count": 2,
   "id": "ee691c1a",
   "metadata": {},
   "outputs": [
    {
     "name": "stdout",
     "output_type": "stream",
     "text": [
      "254\n",
      "120\n",
      "12529\n",
      "2.791044776119403\n",
      "2\n",
      "53\n",
      "6539203\n"
     ]
    }
   ],
   "source": [
    "# Arithmetic Operators (Math Tools)\n",
    "\n",
    "x = 187\n",
    "y = 67\n",
    "print(x+y)\n",
    "print(x-y)\n",
    "print(x*y)\n",
    "print(x/y)\n",
    "print(x//y)\n",
    "print(x%y)\n",
    "print(x**3)"
   ]
  },
  {
   "cell_type": "code",
   "execution_count": 3,
   "id": "85fbc02c",
   "metadata": {},
   "outputs": [
    {
     "name": "stdout",
     "output_type": "stream",
     "text": [
      "False\n",
      "True\n",
      "False\n",
      "True\n",
      "False\n",
      "True\n"
     ]
    }
   ],
   "source": [
    "# Comparison Operators (Checking Things)\n",
    "\n",
    "print(23>45)\n",
    "print(23<45)\n",
    "print(23 == 45)\n",
    "print(23 != 45)\n",
    "\n",
    "print(23 >= 45)\n",
    "print(23 <= 44)"
   ]
  },
  {
   "cell_type": "code",
   "execution_count": 4,
   "id": "abcc6bc7",
   "metadata": {},
   "outputs": [
    {
     "name": "stdout",
     "output_type": "stream",
     "text": [
      "False\n",
      "True\n",
      "False\n"
     ]
    }
   ],
   "source": [
    "\n",
    "# Logical Operators (Combining Checks)\n",
    "\n",
    "print(55 == 45 and 66 < 67)\n",
    "\n",
    "print(23 == 5 or 56 < 67)\n",
    "\n",
    "print(not 45 == 45)"
   ]
  },
  {
   "cell_type": "code",
   "execution_count": 25,
   "id": "a9222eb4",
   "metadata": {},
   "outputs": [
    {
     "name": "stdout",
     "output_type": "stream",
     "text": [
      "20\n",
      "200\n"
     ]
    }
   ],
   "source": [
    "# Assignment Operators (Saving Values)\n",
    "x = 10\n",
    "x += 10\n",
    "print(x)\n",
    "x *= 10\n",
    "print(x)"
   ]
  },
  {
   "cell_type": "code",
   "execution_count": 26,
   "id": "9184d0c5",
   "metadata": {},
   "outputs": [
    {
     "name": "stdout",
     "output_type": "stream",
     "text": [
      "True\n"
     ]
    }
   ],
   "source": [
    "# Membership Operators (Checking Lists or Words)\n",
    "\n",
    "data = (\"Rupesh\")\n",
    "print(\"u\" in data)"
   ]
  },
  {
   "cell_type": "code",
   "execution_count": 27,
   "id": "ae95d441",
   "metadata": {},
   "outputs": [
    {
     "name": "stdout",
     "output_type": "stream",
     "text": [
      "False\n",
      "True\n"
     ]
    }
   ],
   "source": [
    "# is\n",
    "# is not\n",
    "\n",
    "data1 = 45\n",
    "data2 = 66\n",
    "print(data1 is data2)\n",
    "print(data1 is not data2) "
   ]
  }
 ],
 "metadata": {
  "kernelspec": {
   "display_name": "Python 3",
   "language": "python",
   "name": "python3"
  },
  "language_info": {
   "codemirror_mode": {
    "name": "ipython",
    "version": 3
   },
   "file_extension": ".py",
   "mimetype": "text/x-python",
   "name": "python",
   "nbconvert_exporter": "python",
   "pygments_lexer": "ipython3",
   "version": "3.12.3"
  }
 },
 "nbformat": 4,
 "nbformat_minor": 5
}
