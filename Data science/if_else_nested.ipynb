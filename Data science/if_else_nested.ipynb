{
 "cells": [
  {
   "cell_type": "code",
   "execution_count": null,
   "id": "9b962502",
   "metadata": {},
   "outputs": [
    {
     "name": "stdout",
     "output_type": "stream",
     "text": [
      "b is greatest\n"
     ]
    }
   ],
   "source": [
    "a = 85\n",
    "b = 68\n",
    "c = 50\n",
    "d = 15\n",
    "\n",
    "if a > b and a > c and a > d:\n",
    "    print(\"a is greatest\")\n",
    "elif b > a and b > c and  b > d:\n",
    "    print(\"b is greatest\")\n",
    "elif c > a and c > b and c > d:\n",
    "    print(\"c is greatest\")\n",
    "else:\n",
    "    print(\"d is greatest\")"
   ]
  },
  {
   "cell_type": "code",
   "execution_count": 13,
   "id": "97dd5ba1",
   "metadata": {},
   "outputs": [
    {
     "name": "stdout",
     "output_type": "stream",
     "text": [
      "b is greatest\n"
     ]
    }
   ],
   "source": [
    "a = int(input(\"Enter No 1:\"))\n",
    "b = int(input(\"Enter No 2:\"))\n",
    "c = int(input(\"Enter No 3:\"))\n",
    "d = int(input(\"Enter No 4:\"))\n",
    "\n",
    "if a > b and a > c and a > d:\n",
    "    print(\"a is greatest\")\n",
    "elif b > a and b > c and  b > d:\n",
    "    print(\"b is greatest\")\n",
    "elif c > a and c > b and c > d:\n",
    "    print(\"c is greatest\")\n",
    "else:\n",
    "    print(\"d is greatest\")\n"
   ]
  }
 ],
 "metadata": {
  "kernelspec": {
   "display_name": "Python 3",
   "language": "python",
   "name": "python3"
  },
  "language_info": {
   "codemirror_mode": {
    "name": "ipython",
    "version": 3
   },
   "file_extension": ".py",
   "mimetype": "text/x-python",
   "name": "python",
   "nbconvert_exporter": "python",
   "pygments_lexer": "ipython3",
   "version": "3.12.3"
  }
 },
 "nbformat": 4,
 "nbformat_minor": 5
}
