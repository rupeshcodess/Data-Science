{
 "cells": [
  {
   "cell_type": "code",
   "execution_count": 8,
   "id": "d4154c00",
   "metadata": {},
   "outputs": [
    {
     "name": "stdout",
     "output_type": "stream",
     "text": [
      "Your Grade is B\n"
     ]
    }
   ],
   "source": [
    "a = int(input(\"Enter No:\"))\n",
    "\n",
    "if a <= 30:\n",
    "    print(\"Your Grade is Fail\")\n",
    "elif a >= 31 and a <= 50:\n",
    "    print(\"Your Grade is C\")\n",
    "elif a >= 51 and a <= 79:\n",
    "    print(\"Your Grade is B\")\n",
    "else:\n",
    "    print(\"Your Grade is A\")"
   ]
  },
  {
   "cell_type": "code",
   "execution_count": null,
   "id": "34247aa6",
   "metadata": {},
   "outputs": [
    {
     "name": "stdout",
     "output_type": "stream",
     "text": [
      "15 is greater than 10\n"
     ]
    }
   ],
   "source": [
    "a = int(input(\"Enter No 1:\"))\n",
    "b = int(input(\"Enter No 2:\"))\n",
    "\n",
    "if a > b:\n",
    "    print(a,\"is greater than\",b)\n",
    "elif b > a:\n",
    "    print(b,\"is greater than\",a)\n",
    "else:\n",
    "    print(\"Both are equal\")"
   ]
  },
  {
   "cell_type": "code",
   "execution_count": null,
   "id": "43475505",
   "metadata": {},
   "outputs": [
    {
     "name": "stdout",
     "output_type": "stream",
     "text": [
      "Your grade is F.\n"
     ]
    }
   ],
   "source": []
  }
 ],
 "metadata": {
  "kernelspec": {
   "display_name": "Python 3",
   "language": "python",
   "name": "python3"
  },
  "language_info": {
   "codemirror_mode": {
    "name": "ipython",
    "version": 3
   },
   "file_extension": ".py",
   "mimetype": "text/x-python",
   "name": "python",
   "nbconvert_exporter": "python",
   "pygments_lexer": "ipython3",
   "version": "3.12.3"
  }
 },
 "nbformat": 4,
 "nbformat_minor": 5
}
