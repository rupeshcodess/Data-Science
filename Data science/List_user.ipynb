{
 "cells": [
  {
   "cell_type": "code",
   "execution_count": null,
   "id": "5fa7ce9b",
   "metadata": {},
   "outputs": [],
   "source": [
    "# how to take user input into list \n",
    "food = []\n",
    "# size\n",
    "size = int(input('Enter list size ... '))\n",
    "for i in range(size):\n",
    "    i = input('Enter Food Name ...')\n",
    "    food.append(i)\n",
    "\n",
    "\n",
    "for i in range(size):\n",
    "    print((i+1),' = ',food[i])"
   ]
  },
  {
   "cell_type": "code",
   "execution_count": 2,
   "id": "0b5503bc",
   "metadata": {},
   "outputs": [
    {
     "name": "stdout",
     "output_type": "stream",
     "text": [
      "fgdsj  =  100\n",
      "hjds  =  1222\n"
     ]
    }
   ],
   "source": [
    "food=[]\n",
    "price=[]\n",
    "\n",
    "size=int(input('Enter List Size..'))\n",
    "\n",
    "for i in range(size):\n",
    "    i=input('Enter Food Name')\n",
    "    food.append(i)\n",
    "\n",
    "for i in range(size):\n",
    "    i=int(input('Enter Price..'))\n",
    "    price.append(i)\n",
    "\n",
    "for i in range(size):\n",
    "    print(food[i],' = ',price[i])"
   ]
  },
  {
   "cell_type": "code",
   "execution_count": 6,
   "id": "793001cf",
   "metadata": {},
   "outputs": [
    {
     "name": "stdout",
     "output_type": "stream",
     "text": [
      "huid  =  100\n",
      "dfs  =  200\n",
      "ffef  =  300\n",
      "---------------------\n",
      "Price: 600\n",
      "GST: 10 %\n",
      "Gst Amount: 60.0\n",
      "---------------------\n",
      "Total Bill: 660.0\n"
     ]
    }
   ],
   "source": [
    "food=[]\n",
    "price=[]\n",
    "\n",
    "size=int(input('Enter List Size..'))\n",
    "\n",
    "for i in range(size):\n",
    "    i=input('Enter Food Name')\n",
    "    food.append(i)\n",
    "\n",
    "for i in range(size):\n",
    "    i=int(input('Enter Price..'))\n",
    "    price.append(i)\\\n",
    "\n",
    "\n",
    "for i in range(size):\n",
    "    print(food[i],' = ',price[i])\n",
    "    \n",
    "print('---------------------')\n",
    "\n",
    "yes=input('Enter y or Y for GST Applying')\n",
    "\n",
    "if yes=='y' or yes=='Y':\n",
    "    total_amt=sum(price)\n",
    "    gst=int(input('Enter Gst%'))\n",
    "    GST=(total_amt*gst/100)\n",
    "    final_amt=total_amt+GST\n",
    "    print('Price:',total_amt)\n",
    "    print('GST:',gst,'%')\n",
    "    print('Gst Amount:',GST)\n",
    "    print('---------------------')\n",
    "    print('Total Bill:',final_amt)\n",
    "\n",
    "else:\n",
    "    print('Final amount',total_amt)\n",
    "    \n",
    "    \n",
    "\n"
   ]
  }
 ],
 "metadata": {
  "kernelspec": {
   "display_name": "Python 3",
   "language": "python",
   "name": "python3"
  },
  "language_info": {
   "codemirror_mode": {
    "name": "ipython",
    "version": 3
   },
   "file_extension": ".py",
   "mimetype": "text/x-python",
   "name": "python",
   "nbconvert_exporter": "python",
   "pygments_lexer": "ipython3",
   "version": "3.12.4"
  }
 },
 "nbformat": 4,
 "nbformat_minor": 5
}
