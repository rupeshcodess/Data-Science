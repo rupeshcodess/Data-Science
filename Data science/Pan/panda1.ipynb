{
 "cells": [
  {
   "cell_type": "code",
   "execution_count": null,
   "id": "f460b674",
   "metadata": {},
   "outputs": [],
   "source": [
    "%pip install pandas"
   ]
  },
  {
   "cell_type": "code",
   "execution_count": null,
   "id": "b556b056",
   "metadata": {},
   "outputs": [],
   "source": [
    "import pandas as pd\n",
    "print(pd.__version__)"
   ]
  },
  {
   "cell_type": "code",
   "execution_count": null,
   "id": "573a39c1",
   "metadata": {},
   "outputs": [],
   "source": [
    "data = [\"apple\",\"mango\",\"banana\",\"orange\"]\n",
    "s = pd.Series(data)\n",
    "print(s)"
   ]
  },
  {
   "cell_type": "code",
   "execution_count": null,
   "id": "22752f77",
   "metadata": {},
   "outputs": [],
   "source": [
    "# access data from index\n",
    "\n",
    "print(data[2])"
   ]
  },
  {
   "cell_type": "code",
   "execution_count": null,
   "id": "55dd757e",
   "metadata": {},
   "outputs": [],
   "source": [
    "indexx = ['a','b','c','d']\n",
    "s = pd.Series(data,index=indexx)\n",
    "print(s)"
   ]
  },
  {
   "cell_type": "code",
   "execution_count": null,
   "id": "845e7153",
   "metadata": {},
   "outputs": [],
   "source": [
    "# pd.DataFrame\n",
    "\n",
    "students = {\n",
    "    \"name\":['joy','shri','ankit','aditya'],\n",
    "    \"age\":[23,35,64,22],\n",
    "    \"city\":['mumbai','pune','jaipur','hyderabad']\n",
    "}\n",
    "\n",
    "df = pd.DataFrame(students)\n",
    "print(df)\n",
    "\n",
    "# change index\n",
    "\n",
    "indexx = [101,102,103,104]\n",
    "df = pd.DataFrame(students,index=indexx)\n",
    "print(df)\n",
    "\n",
    "# to save into CSV file\n",
    "\n",
    "df.to_csv('student.csv')"
   ]
  },
  {
   "cell_type": "code",
   "execution_count": null,
   "id": "5b6e8b26",
   "metadata": {},
   "outputs": [],
   "source": [
    "# read CSV file\n",
    "\n",
    "data = pd.read_csv(\"Data.csv\")\n",
    "print(data)\n",
    "# top 5 records(row)\n",
    "print(data.head(5))\n",
    "\n",
    "new = pd.read_csv(\"student.csv\")\n",
    "print(new)"
   ]
  }
 ],
 "metadata": {
  "kernelspec": {
   "display_name": "Python 3",
   "language": "python",
   "name": "python3"
  },
  "language_info": {
   "codemirror_mode": {
    "name": "ipython",
    "version": 3
   },
   "file_extension": ".py",
   "mimetype": "text/x-python",
   "name": "python",
   "nbconvert_exporter": "python",
   "pygments_lexer": "ipython3",
   "version": "3.12.4"
  }
 },
 "nbformat": 4,
 "nbformat_minor": 5
}
