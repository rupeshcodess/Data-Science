{
 "cells": [
  {
   "cell_type": "code",
   "execution_count": null,
   "id": "8255bf28",
   "metadata": {},
   "outputs": [],
   "source": [
    "class Bank:\n",
    "    def check_balance(self,amount):\n",
    "        self.amount = amount\n",
    "        print(f'Bank Main Balance = {self.amount}')\n",
    "    def deposit(self,deposit_amount):\n",
    "        self.deposit = deposit_amount\n",
    "        self.amount = self.amount + self.deposit\n",
    "        print(f'Deposit = {self.deposit}')\n",
    "        print(f'Bank Main Balance = {self.amount}')\n",
    "    def withdraw(self,withdarw_amount):\n",
    "        if withdarw_amount > self.amount:\n",
    "            print('Insufficient Balance')\n",
    "        else:\n",
    "            self.withdraw_amount = withdarw_amount\n",
    "            self.amount = self.amount - self.withdraw_amount\n",
    "            print(f'Withdraw = {self.withdraw_amount}')\n",
    "            print(f'Bank Main Balance = {self.amount}')"
   ]
  },
  {
   "cell_type": "code",
   "execution_count": 14,
   "id": "7f70ab71",
   "metadata": {},
   "outputs": [
    {
     "name": "stdout",
     "output_type": "stream",
     "text": [
      "Bank Main Balance = 50000\n",
      "Insufficient Balance\n",
      "Withdraw = 100\n",
      "Bank Main Balance = 49900\n",
      "Withdraw = 49900\n",
      "Bank Main Balance = 0\n",
      "Deposit = 1000\n",
      "Bank Main Balance = 1000\n",
      "Insufficient Balance\n"
     ]
    }
   ],
   "source": [
    "bank = Bank()\n",
    "bank.check_balance(50000)\n",
    "bank.withdraw(100000)\n",
    "bank.withdraw(100)\n",
    "bank.withdraw(49900)\n",
    "bank.deposit(1000)\n",
    "bank.withdraw(1100)"
   ]
  }
 ],
 "metadata": {
  "kernelspec": {
   "display_name": "Python 3",
   "language": "python",
   "name": "python3"
  },
  "language_info": {
   "codemirror_mode": {
    "name": "ipython",
    "version": 3
   },
   "file_extension": ".py",
   "mimetype": "text/x-python",
   "name": "python",
   "nbconvert_exporter": "python",
   "pygments_lexer": "ipython3",
   "version": "3.12.4"
  }
 },
 "nbformat": 4,
 "nbformat_minor": 5
}
