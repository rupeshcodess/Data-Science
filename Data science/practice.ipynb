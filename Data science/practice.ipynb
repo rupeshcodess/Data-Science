{
 "cells": [
  {
   "cell_type": "code",
   "execution_count": null,
   "id": "ab2f9bcb",
   "metadata": {},
   "outputs": [],
   "source": [
    "Data = [10,2,4,5,6,7,8,9]\n",
    "sorted_number = sorted(Data,reverse=True)\n",
    "second_largest = sorted_number[1]\n",
    "print(\"Second largest number is:\",second_largest)"
   ]
  },
  {
   "cell_type": "code",
   "execution_count": 30,
   "id": "f9bfdf6e",
   "metadata": {},
   "outputs": [
    {
     "name": "stdout",
     "output_type": "stream",
     "text": [
      "List : [3, 4, 7, 5, 8, 6, 9, 2, 1]\n",
      "Even : [4, 8, 6, 2]\n",
      "Odd : [3, 7, 5, 9, 1]\n",
      "Sum of Even : 20\n",
      "Sum of Odd : 25\n"
     ]
    }
   ],
   "source": [
    "Data = [3,4,7,5,8,6,9,2,1]\n",
    "even = []\n",
    "odd = []\n",
    "for i in Data:\n",
    "    if i % 2 == 0:\n",
    "        even.append(i)\n",
    "    else:\n",
    "        odd.append(i)\n",
    "\n",
    "print(\"List :\",Data)\n",
    "print(\"Even :\",even)\n",
    "print(\"Odd :\",odd)\n",
    "print(\"Sum of Even :\",(sum(even)))\n",
    "print(\"Sum of Odd :\",(sum(odd)))"
   ]
  },
  {
   "cell_type": "code",
   "execution_count": null,
   "id": "523903d9",
   "metadata": {},
   "outputs": [],
   "source": []
  }
 ],
 "metadata": {
  "kernelspec": {
   "display_name": "Python 3",
   "language": "python",
   "name": "python3"
  },
  "language_info": {
   "codemirror_mode": {
    "name": "ipython",
    "version": 3
   },
   "file_extension": ".py",
   "mimetype": "text/x-python",
   "name": "python",
   "nbconvert_exporter": "python",
   "pygments_lexer": "ipython3",
   "version": "3.12.4"
  }
 },
 "nbformat": 4,
 "nbformat_minor": 5
}
