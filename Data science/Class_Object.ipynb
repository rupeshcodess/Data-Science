{
 "cells": [
  {
   "cell_type": "code",
   "execution_count": 2,
   "id": "2d92d5b5",
   "metadata": {},
   "outputs": [],
   "source": [
    "class Client:\n",
    "    def Client_info():\n",
    "        print(\"Client Name :- Joy\")\n",
    "        print(\"Client City :- Mumbai\")\n",
    "\n",
    "    def Client_Account():\n",
    "        print(\"SBI Bank\")"
   ]
  },
  {
   "cell_type": "code",
   "execution_count": 4,
   "id": "4c836d1c",
   "metadata": {},
   "outputs": [
    {
     "name": "stdout",
     "output_type": "stream",
     "text": [
      "Client Name :- Joy\n",
      "Client City :- Mumbai\n",
      "SBI Bank\n"
     ]
    }
   ],
   "source": [
    "# Object\n",
    "C1 = Client\n",
    "C1.Client_info()\n",
    "C1.Client_Account()\n"
   ]
  },
  {
   "cell_type": "code",
   "execution_count": 23,
   "id": "c4f759d0",
   "metadata": {},
   "outputs": [],
   "source": [
    "class Calculator:\n",
    "    def add(n1,n2):\n",
    "        print(\"Addition:\",n1+n2)\n",
    "\n",
    "    def sub(n1,n2):\n",
    "        print(\"Subtraction:\",n1-n2)\n",
    "\n",
    "    def multiply(n1,n2):\n",
    "        print(\"Multiply:\",n1*n2)\n",
    "\n",
    "    def divison(n1,n2):\n",
    "        print(\"Division:\",n1/n2)"
   ]
  },
  {
   "cell_type": "code",
   "execution_count": 24,
   "id": "203d986e",
   "metadata": {},
   "outputs": [
    {
     "name": "stdout",
     "output_type": "stream",
     "text": [
      "Addition: 14\n",
      "Subtraction: 4\n",
      "Multiply: 45\n",
      "Division: 1.8\n"
     ]
    }
   ],
   "source": [
    "n1=int(input(\"Enter no 1:\"))\n",
    "n2=int(input(\"Enter no 2:\"))\n",
    "\n",
    "c1=Calculator\n",
    "c1.add(n1,n2)\n",
    "c1.sub(n1,n2)\n",
    "c1.multiply(n1,n2)\n",
    "c1.divison(n1,n2)"
   ]
  }
 ],
 "metadata": {
  "kernelspec": {
   "display_name": "Python 3",
   "language": "python",
   "name": "python3"
  },
  "language_info": {
   "codemirror_mode": {
    "name": "ipython",
    "version": 3
   },
   "file_extension": ".py",
   "mimetype": "text/x-python",
   "name": "python",
   "nbconvert_exporter": "python",
   "pygments_lexer": "ipython3",
   "version": "3.12.4"
  }
 },
 "nbformat": 4,
 "nbformat_minor": 5
}
