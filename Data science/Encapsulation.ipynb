{
 "cells": [
  {
   "cell_type": "code",
   "execution_count": 1,
   "id": "523195fb",
   "metadata": {},
   "outputs": [],
   "source": [
    "class Student:\n",
    "    def __init__(self,name,age,marks):\n",
    "        self.name = name\n",
    "        self.age = age\n",
    "        self.marks = marks\n",
    "\n",
    "    def show_details(self):\n",
    "        print(f'Name: {self.name}')\n",
    "        print(f'Age: {self.age}')\n",
    "        print(f'Marks: {self.marks}')\n",
    "\n",
    "    def __calculate_grade(self):\n",
    "        if self.marks >= 90:\n",
    "            return \"A\"\n",
    "        elif self.marks >= 75:\n",
    "            return \"B\"\n",
    "        elif self.marks >= 60:\n",
    "            return \"C\"\n",
    "        elif self.marks >= 40:\n",
    "            return \"D\"\n",
    "        else:\n",
    "            return \"F\"\n",
    "        \n",
    "    def get_grade(self):\n",
    "        return self.__calculate_grade()"
   ]
  },
  {
   "cell_type": "code",
   "execution_count": null,
   "id": "b0ec06d7",
   "metadata": {},
   "outputs": [
    {
     "name": "stdout",
     "output_type": "stream",
     "text": [
      "Name: Shri\n",
      "Age: 20\n",
      "Marks: 50\n",
      "Garde: D\n"
     ]
    }
   ],
   "source": [
    "s1 = Student(\"Shri\",20,50)\n",
    "s1.show_details()\n",
    "print(f'Grade: {s1.get_grade()}')"
   ]
  },
  {
   "cell_type": "code",
   "execution_count": 52,
   "id": "942e9fe8",
   "metadata": {},
   "outputs": [],
   "source": [
    "class Product():\n",
    "    def __init__(self,name,price,gst,discount):\n",
    "        self.name = name\n",
    "        self.price = price\n",
    "        self._gst = gst\n",
    "        self.discount = discount\n",
    "\n",
    "    def show_details(self):\n",
    "        print(f'Name: {self.name}')\n",
    "        print(f'Price: {self.price}')\n",
    "        print(f'GST: {self._gst}%')\n",
    "        print(f'Discount: {self.discount}%')\n",
    "\n",
    "    def Amount(self):\n",
    "        gst_amt = (self.price * self._gst) / 100\n",
    "        with_gst = gst_amt + self.price\n",
    "        discount_amt = (with_gst * self.discount) /100\n",
    "        with_discount = with_gst - discount_amt\n",
    "        print(f'GST Amount: {gst_amt}')\n",
    "        print(f'Price with GST: {with_gst}')\n",
    "        print(f'Discount Amount: {discount_amt}')\n",
    "        print(f'Total Amount Payable: {with_discount}')\n",
    "    \n",
    "    "
   ]
  },
  {
   "cell_type": "code",
   "execution_count": 53,
   "id": "4bad6aba",
   "metadata": {},
   "outputs": [
    {
     "name": "stdout",
     "output_type": "stream",
     "text": [
      "Name: Shri\n",
      "Price: 1000\n",
      "GST: 10%\n",
      "Discount: 5%\n",
      "GST Amount: 100.0\n",
      "Price with GST: 1100.0\n",
      "Discount Amount: 55.0\n",
      "Total Amount Payable: 1045.0\n"
     ]
    }
   ],
   "source": [
    "p = Product(\"Shri\",1000,10,5)\n",
    "p.show_details()\n",
    "p.Amount()"
   ]
  }
 ],
 "metadata": {
  "kernelspec": {
   "display_name": "Python 3",
   "language": "python",
   "name": "python3"
  },
  "language_info": {
   "codemirror_mode": {
    "name": "ipython",
    "version": 3
   },
   "file_extension": ".py",
   "mimetype": "text/x-python",
   "name": "python",
   "nbconvert_exporter": "python",
   "pygments_lexer": "ipython3",
   "version": "3.12.4"
  }
 },
 "nbformat": 4,
 "nbformat_minor": 5
}
