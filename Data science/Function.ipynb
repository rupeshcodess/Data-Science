{
 "cells": [
  {
   "cell_type": "code",
   "execution_count": 3,
   "id": "a502dd32",
   "metadata": {},
   "outputs": [
    {
     "name": "stdout",
     "output_type": "stream",
     "text": [
      "900\n",
      "900\n"
     ]
    }
   ],
   "source": [
    "# FUNCTION WITH RETURN TYPE\n",
    "\n",
    "def get_number():\n",
    "    return 900\n",
    "\n",
    "# call function\n",
    "number = get_number()\n",
    "print(number)\n",
    "\n",
    "print(get_number())"
   ]
  },
  {
   "cell_type": "code",
   "execution_count": 4,
   "id": "64f6cff7",
   "metadata": {},
   "outputs": [],
   "source": [
    "# function with return type an args\n",
    "\n",
    "def add(number1,number2):\n",
    "    result=number1+number2  \n",
    "    return result"
   ]
  },
  {
   "cell_type": "code",
   "execution_count": 5,
   "id": "a5c98a5f",
   "metadata": {},
   "outputs": [
    {
     "name": "stdout",
     "output_type": "stream",
     "text": [
      "result: 58\n"
     ]
    }
   ],
   "source": [
    "new_num = add(24,34)\n",
    "print('result:',new_num)"
   ]
  }
 ],
 "metadata": {
  "kernelspec": {
   "display_name": "Python 3",
   "language": "python",
   "name": "python3"
  },
  "language_info": {
   "codemirror_mode": {
    "name": "ipython",
    "version": 3
   },
   "file_extension": ".py",
   "mimetype": "text/x-python",
   "name": "python",
   "nbconvert_exporter": "python",
   "pygments_lexer": "ipython3",
   "version": "3.12.4"
  }
 },
 "nbformat": 4,
 "nbformat_minor": 5
}
