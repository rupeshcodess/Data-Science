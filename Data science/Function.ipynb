{
 "cells": [
  {
   "cell_type": "code",
   "execution_count": null,
   "id": "7d917396",
   "metadata": {},
   "outputs": [],
   "source": [
    "def bill(price,gst,discount,quantity):\n",
    "    gst_amount=price*gst/100\n",
    "    final_amount=price+gst_amount\n",
    "    qua=quantity*final_amount\n",
    "    discount_amt=qua*discount/100\n",
    "    dis=qua-discount_amt\n",
    "   \n",
    "    print('Price = ',price,'₹')\n",
    "    print('GST = ',gst,'%')\n",
    "    print('GST Amount = ',gst_amount,'₹')\n",
    "    print('MRP = ',final_amount,'₹')\n",
    "    print('Quantity = ',quantity)\n",
    "    print('Quantity Amount = ',qua,'₹')\n",
    "    print('Discount = ',discount_amt,'₹')\n",
    "    print('Discount = ',dis,'₹')\n",
    "\n",
    "    print('----------------------------')\n",
    "\n"
   ]
  },
  {
   "cell_type": "code",
   "execution_count": 48,
   "id": "e597cd20",
   "metadata": {},
   "outputs": [
    {
     "name": "stdout",
     "output_type": "stream",
     "text": [
      "Price =  1000 ₹\n",
      "GST =  12 %\n",
      "GST Amount =  120.0 ₹\n",
      "MRP =  1120.0 ₹\n",
      "Quantity =  5\n",
      "Quantity Amount =  5600.0 ₹\n",
      "Discount =  560.0 ₹\n",
      "Discount =  5040.0 ₹\n",
      "----------------------------\n"
     ]
    }
   ],
   "source": [
    "bill(1000,12,10,5)"
   ]
  },
  {
   "cell_type": "code",
   "execution_count": null,
   "id": "836cfde6",
   "metadata": {},
   "outputs": [],
   "source": [
    " discount_amt=price*discount/100\n",
    "dis=qua-discount_amt"
   ]
  }
 ],
 "metadata": {
  "kernelspec": {
   "display_name": "Python 3",
   "language": "python",
   "name": "python3"
  },
  "language_info": {
   "codemirror_mode": {
    "name": "ipython",
    "version": 3
   },
   "file_extension": ".py",
   "mimetype": "text/x-python",
   "name": "python",
   "nbconvert_exporter": "python",
   "pygments_lexer": "ipython3",
   "version": "3.12.10"
  }
 },
 "nbformat": 4,
 "nbformat_minor": 5
}
