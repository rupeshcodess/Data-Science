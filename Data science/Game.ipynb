{
 "cells": [
  {
   "cell_type": "code",
   "execution_count": null,
   "id": "7b263c23",
   "metadata": {},
   "outputs": [],
   "source": [
    "print(\"Welcome to the Crossword Word Building Game\")\n",
    "\n",
    "len=int(input(\"Enter the maximum character length of the answer:\"))\n",
    "\n",
    "char=[]\n"
   ]
  },
  {
   "cell_type": "code",
   "execution_count": null,
   "id": "95598f69",
   "metadata": {},
   "outputs": [],
   "source": [
    "\n",
    "score = 0\n",
    "word_used = []\n",
    "\n",
    "print(f\"Welcome to the Crossword Word Building Game!\")\n",
    "print(f\"Q: What is the national animal of India?\")\n",
    "max_len = int(input(\"Enter the max charchter lenghth of the anwer\"))\n",
    "\n",
    "answer = \"\"\n",
    "for i in range(max_len):\n",
    "    ch = input(f\"Character {i + 1}: \").upper()\n",
    "    answer += ch\n",
    "    \n",
    "print(f\"Answer : {answer}\")\n",
    "word_used.append(answer)\n",
    "score += len(answer)\n",
    "\n",
    "\n",
    "while True:\n",
    "    print(f\"Choose a leeter from {word_used[-1]}: \")\n",
    "    ch = input().upper()\n",
    "    \n",
    "    new_word = input(f\"Make  a new Word {ch}: \").capitalize()\n",
    "    \n",
    "    if len(new_word) < 6:\n",
    "        print(f\"Error: nw word must bee of 6 letter\")\n",
    "        new_word = input(f\"Try agan: \").capitalize()\n",
    "        \n",
    "    print(f\"Valid  score update\")\n",
    "    score += len(new_word)\n",
    "    word_used.append(new_word)\n",
    "    print(f\"Total Score: {score}\")\n",
    "    \n",
    "    cont = input(f\"DO you want to continue: \").lower()\n",
    "    if cont != 'yes':\n",
    "        break\n",
    "    \n",
    "\n",
    "print(f\"Game Over\")\n",
    "print(f\"Word Used : {word_used}\")\n",
    "print(f\"Final Score: {score}\")\n"
   ]
  },
  {
   "cell_type": "code",
   "execution_count": 9,
   "id": "1b57254c",
   "metadata": {},
   "outputs": [
    {
     "name": "stdout",
     "output_type": "stream",
     "text": [
      "Good! Now the new main word is 'apple'.\n",
      "You picked the last letter 'e' from 'apple'. Game Over!\n"
     ]
    }
   ],
   "source": [
    "\n",
    "used_words = set()  \n",
    "\n",
    "word = input(\"Enter the starting word: \")\n",
    "used_words.add(word)\n",
    "\n",
    "while True:\n",
    "    last_letter = word[-1] \n",
    "\n",
    "    letter = input(f\"Pick a letter from '{word}': \")\n",
    "\n",
    "    if letter not in word:\n",
    "        print(\"Invalid letter! Pick a letter from the current word.\")\n",
    "        continue\n",
    "\n",
    "    if letter == last_letter:\n",
    "        print(f\"You picked the last letter '{letter}' from '{word}'. Game Over!\")\n",
    "        break\n",
    "\n",
    "    new_word = input(f\"Make a word starting with '{letter}': \")\n",
    "\n",
    "    if not new_word.startswith(letter):\n",
    "        print(f\"'{new_word}' does not start with '{letter}'. Try again.\")\n",
    "        continue\n",
    "\n",
    "    if new_word in used_words:\n",
    "        print(f\"'{new_word}' was already used. Pick a new word!\")\n",
    "        continue\n",
    "\n",
    "    used_words.add(new_word)\n",
    "    word = new_word \n",
    "    print(f\"Good! Now the new main word is '{word}'.\")"
   ]
  }
 ],
 "metadata": {
  "kernelspec": {
   "display_name": "Python 3",
   "language": "python",
   "name": "python3"
  },
  "language_info": {
   "codemirror_mode": {
    "name": "ipython",
    "version": 3
   },
   "file_extension": ".py",
   "mimetype": "text/x-python",
   "name": "python",
   "nbconvert_exporter": "python",
   "pygments_lexer": "ipython3",
   "version": "3.12.4"
  }
 },
 "nbformat": 4,
 "nbformat_minor": 5
}
