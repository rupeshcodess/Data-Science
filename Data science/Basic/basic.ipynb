{
 "cells": [
  {
   "cell_type": "code",
   "execution_count": 10,
   "id": "8cc9dd7c",
   "metadata": {},
   "outputs": [
    {
     "name": "stdout",
     "output_type": "stream",
     "text": [
      "This is my gst amount None\n"
     ]
    }
   ],
   "source": [
    "import tax_basic as t\n",
    "\n",
    "product_price = 5000\n",
    "gst = 18\n",
    "\n",
    "final_price = t.gst(product_price,gst)\n",
    "\n",
    "print(\"This is my gst amount\",final_price)\n"
   ]
  },
  {
   "cell_type": "code",
   "execution_count": 12,
   "id": "b981bbcd",
   "metadata": {},
   "outputs": [
    {
     "name": "stdout",
     "output_type": "stream",
     "text": [
      "Welcome to the Bank\n",
      "Welcome to the Bank\n"
     ]
    }
   ],
   "source": [
    "from cwpc_pkg import Bank as b\n",
    "\n",
    "b.Bank.bank_info()\n",
    "\n",
    "# 2nd way to print\n",
    "\n",
    "mybank = b.Bank\n",
    "mybank.bank_info()"
   ]
  }
 ],
 "metadata": {
  "kernelspec": {
   "display_name": "Python 3",
   "language": "python",
   "name": "python3"
  },
  "language_info": {
   "codemirror_mode": {
    "name": "ipython",
    "version": 3
   },
   "file_extension": ".py",
   "mimetype": "text/x-python",
   "name": "python",
   "nbconvert_exporter": "python",
   "pygments_lexer": "ipython3",
   "version": "3.12.4"
  }
 },
 "nbformat": 4,
 "nbformat_minor": 5
}
