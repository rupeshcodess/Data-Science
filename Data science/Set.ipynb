{
 "cells": [
  {
   "cell_type": "code",
   "execution_count": null,
   "id": "89dd49b2",
   "metadata": {},
   "outputs": [],
   "source": [
    "data=[23,34,45,2,45,2,2,2,4,5,4,4]\n",
    "my_set=set(data)\n",
    "print(data)"
   ]
  },
  {
   "cell_type": "code",
   "execution_count": null,
   "id": "8bb8f118",
   "metadata": {},
   "outputs": [],
   "source": [
    "data={2,2,2,2,2,3,4,5,6,5,4}\n",
    "print(data)"
   ]
  },
  {
   "cell_type": "code",
   "execution_count": null,
   "id": "634d72ea",
   "metadata": {},
   "outputs": [],
   "source": [
    "# update\n",
    "data.update([23,24,45])\n",
    "print(data)"
   ]
  },
  {
   "cell_type": "code",
   "execution_count": null,
   "id": "8da8b5ac",
   "metadata": {},
   "outputs": [],
   "source": [
    "# add\n",
    "data.add(300)\n",
    "print(data)"
   ]
  },
  {
   "cell_type": "code",
   "execution_count": null,
   "id": "288cbaa7",
   "metadata": {},
   "outputs": [],
   "source": [
    "data.remove(24)\n",
    "print(data)"
   ]
  },
  {
   "cell_type": "code",
   "execution_count": null,
   "id": "0e928959",
   "metadata": {},
   "outputs": [],
   "source": [
    "data.discard(34)\n",
    "print(data)"
   ]
  },
  {
   "cell_type": "code",
   "execution_count": null,
   "id": "8d04394c",
   "metadata": {},
   "outputs": [],
   "source": [
    "data.pop()\n",
    "print(data)"
   ]
  },
  {
   "cell_type": "code",
   "execution_count": null,
   "id": "63964de7",
   "metadata": {},
   "outputs": [],
   "source": [
    "data.clear()\n",
    "print(data)"
   ]
  },
  {
   "cell_type": "code",
   "execution_count": 23,
   "id": "7704804d",
   "metadata": {},
   "outputs": [
    {
     "name": "stdout",
     "output_type": "stream",
     "text": [
      "{1, 2, 3, 4, 5, 6}\n",
      "{1, 4}\n",
      "{2, 3}\n",
      "{2, 3, 5, 6}\n"
     ]
    }
   ],
   "source": [
    "set1={1,2,3,4}\n",
    "set2={4,1,5,6}\n",
    "\n",
    "union_set = set1 | set2\n",
    "intersection_set = set1 & set2\n",
    "difference_set = set1 - set2\n",
    "symmetric_set = set1 ^ set2\n",
    "\n",
    "print(union_set)\n",
    "print(intersection_set)\n",
    "print(difference_set)\n",
    "print(symmetric_set)"
   ]
  },
  {
   "cell_type": "code",
   "execution_count": null,
   "id": "f0f4f8f7",
   "metadata": {},
   "outputs": [],
   "source": [
    "for letter in set('apple'):\n",
    "    print(letter)"
   ]
  },
  {
   "cell_type": "code",
   "execution_count": null,
   "id": "79f33b29",
   "metadata": {},
   "outputs": [],
   "source": [
    "my_set = set(\"apple\")\n",
    "print('a' in my_set)\n",
    "print('h' in my_set)\n",
    "print('z' not in my_set)"
   ]
  }
 ],
 "metadata": {
  "kernelspec": {
   "display_name": "Python 3",
   "language": "python",
   "name": "python3"
  },
  "language_info": {
   "codemirror_mode": {
    "name": "ipython",
    "version": 3
   },
   "file_extension": ".py",
   "mimetype": "text/x-python",
   "name": "python",
   "nbconvert_exporter": "python",
   "pygments_lexer": "ipython3",
   "version": "3.12.4"
  }
 },
 "nbformat": 4,
 "nbformat_minor": 5
}
