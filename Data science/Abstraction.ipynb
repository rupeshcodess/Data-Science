{
 "cells": [
  {
   "cell_type": "code",
   "execution_count": 1,
   "id": "7bc20b02",
   "metadata": {},
   "outputs": [
    {
     "name": "stdout",
     "output_type": "stream",
     "text": [
      "Washing Apples...\n",
      "Cutting Apples...\n",
      "Squeezing Apples....\n",
      "Here is your apple juice\n"
     ]
    }
   ],
   "source": [
    "class JuiceMachine:\n",
    "    def make_apple_juice(self):\n",
    "        self.__wash_apple()\n",
    "        self.__cut_apple()\n",
    "        self.__squeeze_apple()\n",
    "        print(\"Here is your apple juice\")\n",
    "    def __wash_apple(self):\n",
    "        print(\"Washing Apples...\")\n",
    "    def __cut_apple(self):\n",
    "        print(\"Cutting Apples...\")\n",
    "    def __squeeze_apple(self):\n",
    "        print(\"Squeezing Apples....\")\n",
    "\n",
    "# user just presses button\n",
    "machine = JuiceMachine()\n",
    "machine.make_apple_juice()"
   ]
  },
  {
   "cell_type": "code",
   "execution_count": 2,
   "id": "6069395a",
   "metadata": {},
   "outputs": [
    {
     "name": "stdout",
     "output_type": "stream",
     "text": [
      "Car Started...\n",
      "Engine Started...\n",
      "Doors Closed...\n",
      "Car operated successfully\n"
     ]
    }
   ],
   "source": [
    "class Car:\n",
    "    def car_operating(self):\n",
    "        self.car_start()\n",
    "        self.start_engine()\n",
    "        self.doors_closed()\n",
    "        print(\"Car operated successfully\")\n",
    "    def car_start(self):\n",
    "        print(\"Car Started...\")\n",
    "    def start_engine(self):\n",
    "        print(\"Engine Started...\")\n",
    "    def doors_closed(self):\n",
    "        print(\"Doors Closed...\")\n",
    "\n",
    "car = Car()\n",
    "car.car_operating()"
   ]
  }
 ],
 "metadata": {
  "kernelspec": {
   "display_name": "Python 3",
   "language": "python",
   "name": "python3"
  },
  "language_info": {
   "codemirror_mode": {
    "name": "ipython",
    "version": 3
   },
   "file_extension": ".py",
   "mimetype": "text/x-python",
   "name": "python",
   "nbconvert_exporter": "python",
   "pygments_lexer": "ipython3",
   "version": "3.12.4"
  }
 },
 "nbformat": 4,
 "nbformat_minor": 5
}
