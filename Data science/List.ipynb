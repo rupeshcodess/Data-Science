{
 "cells": [
  {
   "cell_type": "code",
   "execution_count": null,
   "id": "b0c44be7",
   "metadata": {},
   "outputs": [],
   "source": [
    "# create an empty list\n",
    "data=[]\n",
    "print(data)\n",
    "# check type\n",
    "print(type(data))"
   ]
  },
  {
   "cell_type": "code",
   "execution_count": null,
   "id": "3a50b50d",
   "metadata": {},
   "outputs": [],
   "source": [
    "data=[11,22,33,44,55,66,77]\n",
    "data=[\"java\",\"python\",\"c++\"]\n",
    "data=[11,\"java\",54.5]"
   ]
  },
  {
   "cell_type": "code",
   "execution_count": null,
   "id": "5ef1cd10",
   "metadata": {},
   "outputs": [],
   "source": [
    "data=[11,22,33,44,55,66,77]\n",
    "print(data[5])\n",
    "print(data[1:4])\n",
    "print(data[-5:])\n",
    "print(data[-6:-4])\n",
    "print(data[:-1])"
   ]
  },
  {
   "cell_type": "code",
   "execution_count": null,
   "id": "71f0d666",
   "metadata": {},
   "outputs": [],
   "source": [
    "# add new data\n",
    "data.append(88)\n",
    "print(data)"
   ]
  },
  {
   "cell_type": "code",
   "execution_count": null,
   "id": "c8120241",
   "metadata": {},
   "outputs": [],
   "source": [
    "# add more than 1 data\n",
    "data.extend([99,56,79])\n",
    "print(data)"
   ]
  },
  {
   "cell_type": "code",
   "execution_count": null,
   "id": "fc7112ea",
   "metadata": {},
   "outputs": [],
   "source": [
    "# pop for removing data\n",
    "data.pop(10)\n",
    "print(data)\n"
   ]
  },
  {
   "cell_type": "code",
   "execution_count": null,
   "id": "a6db3c0c",
   "metadata": {},
   "outputs": [],
   "source": [
    "data.pop()\n",
    "print(data)"
   ]
  },
  {
   "cell_type": "code",
   "execution_count": null,
   "id": "00c05dca",
   "metadata": {},
   "outputs": [],
   "source": [
    "data.remove(44)\n",
    "print(data)"
   ]
  },
  {
   "cell_type": "code",
   "execution_count": 15,
   "id": "8c5f6647",
   "metadata": {},
   "outputs": [
    {
     "name": "stdout",
     "output_type": "stream",
     "text": [
      "[11, 22, 33, 44, 66, 77]\n"
     ]
    }
   ],
   "source": [
    "# update record\n",
    "data[3]=44\n",
    "print(data)"
   ]
  },
  {
   "cell_type": "code",
   "execution_count": 16,
   "id": "4352d4b6",
   "metadata": {},
   "outputs": [
    {
     "name": "stdout",
     "output_type": "stream",
     "text": [
      "[11, 22, 33, 44, 55, 66, 77]\n"
     ]
    }
   ],
   "source": [
    "# insert into list\n",
    "data.insert(4,55)\n",
    "print(data)"
   ]
  },
  {
   "cell_type": "code",
   "execution_count": 17,
   "id": "429eb16a",
   "metadata": {},
   "outputs": [
    {
     "name": "stdout",
     "output_type": "stream",
     "text": [
      "7\n",
      "308\n",
      "11\n",
      "77\n"
     ]
    }
   ],
   "source": [
    "print(len(data))\n",
    "print(sum(data))\n",
    "print(min(data))\n",
    "print(max(data))"
   ]
  }
 ],
 "metadata": {
  "kernelspec": {
   "display_name": "Python 3",
   "language": "python",
   "name": "python3"
  },
  "language_info": {
   "codemirror_mode": {
    "name": "ipython",
    "version": 3
   },
   "file_extension": ".py",
   "mimetype": "text/x-python",
   "name": "python",
   "nbconvert_exporter": "python",
   "pygments_lexer": "ipython3",
   "version": "3.12.4"
  }
 },
 "nbformat": 4,
 "nbformat_minor": 5
}
