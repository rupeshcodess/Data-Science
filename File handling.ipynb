{
 "cells": [
  {
   "cell_type": "code",
   "execution_count": 1,
   "id": "c517bbd6",
   "metadata": {},
   "outputs": [],
   "source": [
    "# method\n",
    "# write 'w'\n",
    "with open('cwpc.txt','w',encoding='utf-8') as file:\n",
    "    file.write('Welcome to CWPC\\n')\n",
    "    file.writelines([\"Line 2\\n\",\"Line 3\\n\"])\n"
   ]
  },
  {
   "cell_type": "code",
   "execution_count": 2,
   "id": "4c47a0a8",
   "metadata": {},
   "outputs": [
    {
     "name": "stdout",
     "output_type": "stream",
     "text": [
      "Welcome to CWPC\n",
      "Line 2\n",
      "Line 3\n",
      "\n"
     ]
    }
   ],
   "source": [
    "# read method 'r'\n",
    "with open('cwpc.txt','r') as file:\n",
    "    data=file.read()\n",
    "    print(data)"
   ]
  },
  {
   "cell_type": "code",
   "execution_count": 5,
   "id": "a294162d",
   "metadata": {},
   "outputs": [],
   "source": [
    "# append\n",
    "with open('cwpc.txt','a') as file:\n",
    "    file.write('\\n Welcome to Python learning point')"
   ]
  },
  {
   "cell_type": "code",
   "execution_count": 8,
   "id": "c55f2e4e",
   "metadata": {},
   "outputs": [
    {
     "name": "stdout",
     "output_type": "stream",
     "text": [
      "Welcome to CWPC\n",
      "Line 2\n",
      "Line 3\n",
      "\n",
      " Welcome to Python learning point\n",
      " Welcome to Python learning point\n",
      " Welcome to Python learning point\n"
     ]
    }
   ],
   "source": [
    "with open('cwpc.txt','r') as file:\n",
    "    data=file.read()\n",
    "    print(data)"
   ]
  },
  {
   "cell_type": "code",
   "execution_count": 9,
   "id": "f77c1b6a",
   "metadata": {},
   "outputs": [
    {
     "data": {
      "text/html": [
       "<div>\n",
       "<style scoped>\n",
       "    .dataframe tbody tr th:only-of-type {\n",
       "        vertical-align: middle;\n",
       "    }\n",
       "\n",
       "    .dataframe tbody tr th {\n",
       "        vertical-align: top;\n",
       "    }\n",
       "\n",
       "    .dataframe thead th {\n",
       "        text-align: right;\n",
       "    }\n",
       "</style>\n",
       "<table border=\"1\" class=\"dataframe\">\n",
       "  <thead>\n",
       "    <tr style=\"text-align: right;\">\n",
       "      <th></th>\n",
       "      <th>Employee Name</th>\n",
       "      <th>Salary</th>\n",
       "      <th>Dept</th>\n",
       "      <th>Leave Days</th>\n",
       "      <th>City</th>\n",
       "      <th>Date of Birth</th>\n",
       "      <th>Join Date</th>\n",
       "    </tr>\n",
       "  </thead>\n",
       "  <tbody>\n",
       "    <tr>\n",
       "      <th>0</th>\n",
       "      <td>John Smith</td>\n",
       "      <td>50000</td>\n",
       "      <td>HR</td>\n",
       "      <td>12</td>\n",
       "      <td>New York</td>\n",
       "      <td>12-05-1990</td>\n",
       "      <td>01-02-2015</td>\n",
       "    </tr>\n",
       "    <tr>\n",
       "      <th>1</th>\n",
       "      <td>Priya Patel</td>\n",
       "      <td>60000</td>\n",
       "      <td>Finance</td>\n",
       "      <td>10</td>\n",
       "      <td>Mumbai</td>\n",
       "      <td>23-11-1988</td>\n",
       "      <td>15-06-2016</td>\n",
       "    </tr>\n",
       "    <tr>\n",
       "      <th>2</th>\n",
       "      <td>Alex Johnson</td>\n",
       "      <td>70000</td>\n",
       "      <td>IT</td>\n",
       "      <td>8</td>\n",
       "      <td>London</td>\n",
       "      <td>05-09-1992</td>\n",
       "      <td>10-03-2018</td>\n",
       "    </tr>\n",
       "    <tr>\n",
       "      <th>3</th>\n",
       "      <td>Meena Rao</td>\n",
       "      <td>55000</td>\n",
       "      <td>Marketing</td>\n",
       "      <td>14</td>\n",
       "      <td>Bangalore</td>\n",
       "      <td>19-07-1991</td>\n",
       "      <td>21-09-2017</td>\n",
       "    </tr>\n",
       "    <tr>\n",
       "      <th>4</th>\n",
       "      <td>David Lee</td>\n",
       "      <td>80000</td>\n",
       "      <td>Operations</td>\n",
       "      <td>9</td>\n",
       "      <td>Singapore</td>\n",
       "      <td>02-01-1985</td>\n",
       "      <td>12-12-2014</td>\n",
       "    </tr>\n",
       "  </tbody>\n",
       "</table>\n",
       "</div>"
      ],
      "text/plain": [
       "  Employee Name  Salary        Dept  Leave Days       City Date of Birth  \\\n",
       "0    John Smith   50000          HR          12   New York    12-05-1990   \n",
       "1   Priya Patel   60000     Finance          10     Mumbai    23-11-1988   \n",
       "2  Alex Johnson   70000          IT           8     London    05-09-1992   \n",
       "3     Meena Rao   55000   Marketing          14  Bangalore    19-07-1991   \n",
       "4     David Lee   80000  Operations           9  Singapore    02-01-1985   \n",
       "\n",
       "    Join Date  \n",
       "0  01-02-2015  \n",
       "1  15-06-2016  \n",
       "2  10-03-2018  \n",
       "3  21-09-2017  \n",
       "4  12-12-2014  "
      ]
     },
     "execution_count": 9,
     "metadata": {},
     "output_type": "execute_result"
    }
   ],
   "source": [
    "import pandas as pd\n",
    "data=pd.read_csv('Employee_Details.csv')\n",
    "data.head()"
   ]
  },
  {
   "cell_type": "code",
   "execution_count": null,
   "id": "ba97ac6d",
   "metadata": {},
   "outputs": [
    {
     "data": {
      "text/html": [
       "<div>\n",
       "<style scoped>\n",
       "    .dataframe tbody tr th:only-of-type {\n",
       "        vertical-align: middle;\n",
       "    }\n",
       "\n",
       "    .dataframe tbody tr th {\n",
       "        vertical-align: top;\n",
       "    }\n",
       "\n",
       "    .dataframe thead th {\n",
       "        text-align: right;\n",
       "    }\n",
       "</style>\n",
       "<table border=\"1\" class=\"dataframe\">\n",
       "  <thead>\n",
       "    <tr style=\"text-align: right;\">\n",
       "      <th></th>\n",
       "      <th>Unnamed: 0</th>\n",
       "      <th>% OF Grand Total</th>\n",
       "      <th>Unnamed: 2</th>\n",
       "      <th>Unnamed: 3</th>\n",
       "      <th>Unnamed: 4</th>\n",
       "      <th>Unnamed: 5</th>\n",
       "    </tr>\n",
       "  </thead>\n",
       "  <tbody>\n",
       "    <tr>\n",
       "      <th>0</th>\n",
       "      <td>NaN</td>\n",
       "      <td>NaN</td>\n",
       "      <td>NaN</td>\n",
       "      <td>NaN</td>\n",
       "      <td>NaN</td>\n",
       "      <td>NaN</td>\n",
       "    </tr>\n",
       "    <tr>\n",
       "      <th>1</th>\n",
       "      <td>Sum of Sales</td>\n",
       "      <td>Years</td>\n",
       "      <td>NaN</td>\n",
       "      <td>NaN</td>\n",
       "      <td>NaN</td>\n",
       "      <td>NaN</td>\n",
       "    </tr>\n",
       "    <tr>\n",
       "      <th>2</th>\n",
       "      <td>Sub-Category</td>\n",
       "      <td>2014</td>\n",
       "      <td>2015.000000</td>\n",
       "      <td>2016.000000</td>\n",
       "      <td>2017.000000</td>\n",
       "      <td>Grand Total</td>\n",
       "    </tr>\n",
       "    <tr>\n",
       "      <th>3</th>\n",
       "      <td>Accessories</td>\n",
       "      <td>0.010889</td>\n",
       "      <td>0.017641</td>\n",
       "      <td>0.018238</td>\n",
       "      <td>0.026095</td>\n",
       "      <td>0.072863</td>\n",
       "    </tr>\n",
       "    <tr>\n",
       "      <th>4</th>\n",
       "      <td>Appliances</td>\n",
       "      <td>0.006666</td>\n",
       "      <td>0.010117</td>\n",
       "      <td>0.011340</td>\n",
       "      <td>0.018687</td>\n",
       "      <td>0.04681</td>\n",
       "    </tr>\n",
       "  </tbody>\n",
       "</table>\n",
       "</div>"
      ],
      "text/plain": [
       "     Unnamed: 0 % OF Grand Total   Unnamed: 2   Unnamed: 3   Unnamed: 4  \\\n",
       "0           NaN              NaN          NaN          NaN          NaN   \n",
       "1  Sum of Sales            Years          NaN          NaN          NaN   \n",
       "2  Sub-Category             2014  2015.000000  2016.000000  2017.000000   \n",
       "3   Accessories         0.010889     0.017641     0.018238     0.026095   \n",
       "4    Appliances         0.006666     0.010117     0.011340     0.018687   \n",
       "\n",
       "    Unnamed: 5  \n",
       "0          NaN  \n",
       "1          NaN  \n",
       "2  Grand Total  \n",
       "3     0.072863  \n",
       "4      0.04681  "
      ]
     },
     "execution_count": 11,
     "metadata": {},
     "output_type": "execute_result"
    }
   ],
   "source": [
    "import pandas as pd\n",
    "data=pd.read_excel('Sample - Superstore.xls')\n",
    "data.head() "
   ]
  }
 ],
 "metadata": {
  "kernelspec": {
   "display_name": "Python 3",
   "language": "python",
   "name": "python3"
  },
  "language_info": {
   "codemirror_mode": {
    "name": "ipython",
    "version": 3
   },
   "file_extension": ".py",
   "mimetype": "text/x-python",
   "name": "python",
   "nbconvert_exporter": "python",
   "pygments_lexer": "ipython3",
   "version": "3.12.4"
  }
 },
 "nbformat": 4,
 "nbformat_minor": 5
}
